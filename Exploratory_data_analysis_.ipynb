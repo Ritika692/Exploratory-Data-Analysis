{
  "nbformat": 4,
  "nbformat_minor": 0,
  "metadata": {
    "colab": {
      "provenance": [],
      "collapsed_sections": [
        "FYZv8R_TImsZ"
      ]
    },
    "kernelspec": {
      "display_name": "Python 3",
      "language": "python",
      "name": "python3"
    },
    "language_info": {
      "codemirror_mode": {
        "name": "ipython",
        "version": 3
      },
      "file_extension": ".py",
      "mimetype": "text/x-python",
      "name": "python",
      "nbconvert_exporter": "python",
      "pygments_lexer": "ipython3",
      "version": "3.7.4"
    }
  },
  "cells": [
    {
      "cell_type": "markdown",
      "metadata": {
        "id": "ssdFigfwaOw8"
      },
      "source": [
        "\n",
        "##**Basic exploratory data analysis**\n",
        "\n"
      ]
    },
    {
      "cell_type": "markdown",
      "metadata": {
        "id": "KKlNqAg6MzRP"
      },
      "source": [
        "## 1.   Explore the Dataset -- using Python's `Pandas`"
      ]
    },
    {
      "cell_type": "markdown",
      "metadata": {
        "id": "jMy4U6wpdclq"
      },
      "source": [
        "\n",
        "Data exploration refers to the preliminary investigation of data in order\n",
        "to better understand its specific characteristics. There are two key motivations for data exploration:\n",
        "1. To help users select the appropriate preprocessing and data analysis technique used.\n",
        "2. To make use of humans' abilities to recognize patterns in the data.\n",
        "\n",
        "The data is about the \"cars for sale\".The data is saved in a CSV file, called **`LondonCars.csv`**."
      ]
    },
    {
      "cell_type": "markdown",
      "metadata": {
        "id": "LRwnoaC3aOxU"
      },
      "source": [
        "### 1.1   Upload the CSV file to this machine.\n",
        "\n"
      ]
    },
    {
      "cell_type": "markdown",
      "metadata": {
        "id": "SKO1AWiFaOxV"
      },
      "source": [
        "### 1.2   Load the dataset from the CSV file:\n",
        "\n"
      ]
    },
    {
      "cell_type": "markdown",
      "metadata": {
        "id": "k0gxX165m7JI"
      },
      "source": [
        "I have used a  package in Python called [pandas]\n"
      ]
    },
    {
      "cell_type": "markdown",
      "metadata": {
        "id": "gFA_eR7m516a"
      },
      "source": [
        "So, let's start by reading the csv file into a `pandas' DataFrame`:\n",
        "\n",
        "\n",
        "\n",
        "\n",
        " \n"
      ]
    },
    {
      "cell_type": "code",
      "metadata": {
        "cellView": "both",
        "id": "KjvGRNGgNnzF"
      },
      "source": [
        "import pandas as pd\n",
        "df = pd.read_csv('./LondonCars2014.csv')"
      ],
      "execution_count": 18,
      "outputs": []
    },
    {
      "cell_type": "markdown",
      "metadata": {
        "id": "I9cqozrcaOxX"
      },
      "source": [
        "### 1.3   Get general information about the data:\n",
        "\n"
      ]
    },
    {
      "cell_type": "markdown",
      "metadata": {
        "id": "_OM7Gcip50oE"
      },
      "source": [
        "So far, I have read the csv file into a variable we called **`df`**: it is a pandas `DataFrame` object that contains the information in the csv file, along with many useful attributes and methods. "
      ]
    },
    {
      "cell_type": "code",
      "metadata": {
        "colab": {
          "base_uri": "https://localhost:8080/",
          "height": 206
        },
        "id": "OyU38RdluTuA",
        "outputId": "35d9cee8-3bab-4f0f-f25d-846906d639ac"
      },
      "source": [
        "df.head()"
      ],
      "execution_count": 19,
      "outputs": [
        {
          "output_type": "execute_result",
          "data": {
            "text/plain": [
              "      Make                           Model  Year  Mileage  Price Body Style  \\\n",
              "0   Toyota                      Avalon XLE  2014     4725  28995      Sedan   \n",
              "1     Ford                       Escape SE  2014    17201  24994        SUV   \n",
              "2  Hyundai                  Santa Fe Sport  2014     6279  25998        SUV   \n",
              "3     Ford                       Escape SE  2014    16262  26684        SUV   \n",
              "4     Jeep  Grand Cherokee Limited Edition  2014    35572  33440        SUV   \n",
              "\n",
              "  Ex Color In Color Engine Transmission  Doors  \n",
              "0     Gray    Black  6 Cyl    Automatic      4  \n",
              "1   Silver    Black  4 Cyl    Automatic      4  \n",
              "2   Silver     Gray  4 Cyl    Automatic      4  \n",
              "3    Black    Black  4 Cyl    Automatic      4  \n",
              "4    Black    Black  6 Cyl    Automatic      4  "
            ],
            "text/html": [
              "\n",
              "  <div id=\"df-5ff21368-fb2e-447c-97c8-42b8701564f0\">\n",
              "    <div class=\"colab-df-container\">\n",
              "      <div>\n",
              "<style scoped>\n",
              "    .dataframe tbody tr th:only-of-type {\n",
              "        vertical-align: middle;\n",
              "    }\n",
              "\n",
              "    .dataframe tbody tr th {\n",
              "        vertical-align: top;\n",
              "    }\n",
              "\n",
              "    .dataframe thead th {\n",
              "        text-align: right;\n",
              "    }\n",
              "</style>\n",
              "<table border=\"1\" class=\"dataframe\">\n",
              "  <thead>\n",
              "    <tr style=\"text-align: right;\">\n",
              "      <th></th>\n",
              "      <th>Make</th>\n",
              "      <th>Model</th>\n",
              "      <th>Year</th>\n",
              "      <th>Mileage</th>\n",
              "      <th>Price</th>\n",
              "      <th>Body Style</th>\n",
              "      <th>Ex Color</th>\n",
              "      <th>In Color</th>\n",
              "      <th>Engine</th>\n",
              "      <th>Transmission</th>\n",
              "      <th>Doors</th>\n",
              "    </tr>\n",
              "  </thead>\n",
              "  <tbody>\n",
              "    <tr>\n",
              "      <th>0</th>\n",
              "      <td>Toyota</td>\n",
              "      <td>Avalon XLE</td>\n",
              "      <td>2014</td>\n",
              "      <td>4725</td>\n",
              "      <td>28995</td>\n",
              "      <td>Sedan</td>\n",
              "      <td>Gray</td>\n",
              "      <td>Black</td>\n",
              "      <td>6 Cyl</td>\n",
              "      <td>Automatic</td>\n",
              "      <td>4</td>\n",
              "    </tr>\n",
              "    <tr>\n",
              "      <th>1</th>\n",
              "      <td>Ford</td>\n",
              "      <td>Escape SE</td>\n",
              "      <td>2014</td>\n",
              "      <td>17201</td>\n",
              "      <td>24994</td>\n",
              "      <td>SUV</td>\n",
              "      <td>Silver</td>\n",
              "      <td>Black</td>\n",
              "      <td>4 Cyl</td>\n",
              "      <td>Automatic</td>\n",
              "      <td>4</td>\n",
              "    </tr>\n",
              "    <tr>\n",
              "      <th>2</th>\n",
              "      <td>Hyundai</td>\n",
              "      <td>Santa Fe Sport</td>\n",
              "      <td>2014</td>\n",
              "      <td>6279</td>\n",
              "      <td>25998</td>\n",
              "      <td>SUV</td>\n",
              "      <td>Silver</td>\n",
              "      <td>Gray</td>\n",
              "      <td>4 Cyl</td>\n",
              "      <td>Automatic</td>\n",
              "      <td>4</td>\n",
              "    </tr>\n",
              "    <tr>\n",
              "      <th>3</th>\n",
              "      <td>Ford</td>\n",
              "      <td>Escape SE</td>\n",
              "      <td>2014</td>\n",
              "      <td>16262</td>\n",
              "      <td>26684</td>\n",
              "      <td>SUV</td>\n",
              "      <td>Black</td>\n",
              "      <td>Black</td>\n",
              "      <td>4 Cyl</td>\n",
              "      <td>Automatic</td>\n",
              "      <td>4</td>\n",
              "    </tr>\n",
              "    <tr>\n",
              "      <th>4</th>\n",
              "      <td>Jeep</td>\n",
              "      <td>Grand Cherokee Limited Edition</td>\n",
              "      <td>2014</td>\n",
              "      <td>35572</td>\n",
              "      <td>33440</td>\n",
              "      <td>SUV</td>\n",
              "      <td>Black</td>\n",
              "      <td>Black</td>\n",
              "      <td>6 Cyl</td>\n",
              "      <td>Automatic</td>\n",
              "      <td>4</td>\n",
              "    </tr>\n",
              "  </tbody>\n",
              "</table>\n",
              "</div>\n",
              "      <button class=\"colab-df-convert\" onclick=\"convertToInteractive('df-5ff21368-fb2e-447c-97c8-42b8701564f0')\"\n",
              "              title=\"Convert this dataframe to an interactive table.\"\n",
              "              style=\"display:none;\">\n",
              "        \n",
              "  <svg xmlns=\"http://www.w3.org/2000/svg\" height=\"24px\"viewBox=\"0 0 24 24\"\n",
              "       width=\"24px\">\n",
              "    <path d=\"M0 0h24v24H0V0z\" fill=\"none\"/>\n",
              "    <path d=\"M18.56 5.44l.94 2.06.94-2.06 2.06-.94-2.06-.94-.94-2.06-.94 2.06-2.06.94zm-11 1L8.5 8.5l.94-2.06 2.06-.94-2.06-.94L8.5 2.5l-.94 2.06-2.06.94zm10 10l.94 2.06.94-2.06 2.06-.94-2.06-.94-.94-2.06-.94 2.06-2.06.94z\"/><path d=\"M17.41 7.96l-1.37-1.37c-.4-.4-.92-.59-1.43-.59-.52 0-1.04.2-1.43.59L10.3 9.45l-7.72 7.72c-.78.78-.78 2.05 0 2.83L4 21.41c.39.39.9.59 1.41.59.51 0 1.02-.2 1.41-.59l7.78-7.78 2.81-2.81c.8-.78.8-2.07 0-2.86zM5.41 20L4 18.59l7.72-7.72 1.47 1.35L5.41 20z\"/>\n",
              "  </svg>\n",
              "      </button>\n",
              "      \n",
              "  <style>\n",
              "    .colab-df-container {\n",
              "      display:flex;\n",
              "      flex-wrap:wrap;\n",
              "      gap: 12px;\n",
              "    }\n",
              "\n",
              "    .colab-df-convert {\n",
              "      background-color: #E8F0FE;\n",
              "      border: none;\n",
              "      border-radius: 50%;\n",
              "      cursor: pointer;\n",
              "      display: none;\n",
              "      fill: #1967D2;\n",
              "      height: 32px;\n",
              "      padding: 0 0 0 0;\n",
              "      width: 32px;\n",
              "    }\n",
              "\n",
              "    .colab-df-convert:hover {\n",
              "      background-color: #E2EBFA;\n",
              "      box-shadow: 0px 1px 2px rgba(60, 64, 67, 0.3), 0px 1px 3px 1px rgba(60, 64, 67, 0.15);\n",
              "      fill: #174EA6;\n",
              "    }\n",
              "\n",
              "    [theme=dark] .colab-df-convert {\n",
              "      background-color: #3B4455;\n",
              "      fill: #D2E3FC;\n",
              "    }\n",
              "\n",
              "    [theme=dark] .colab-df-convert:hover {\n",
              "      background-color: #434B5C;\n",
              "      box-shadow: 0px 1px 3px 1px rgba(0, 0, 0, 0.15);\n",
              "      filter: drop-shadow(0px 1px 2px rgba(0, 0, 0, 0.3));\n",
              "      fill: #FFFFFF;\n",
              "    }\n",
              "  </style>\n",
              "\n",
              "      <script>\n",
              "        const buttonEl =\n",
              "          document.querySelector('#df-5ff21368-fb2e-447c-97c8-42b8701564f0 button.colab-df-convert');\n",
              "        buttonEl.style.display =\n",
              "          google.colab.kernel.accessAllowed ? 'block' : 'none';\n",
              "\n",
              "        async function convertToInteractive(key) {\n",
              "          const element = document.querySelector('#df-5ff21368-fb2e-447c-97c8-42b8701564f0');\n",
              "          const dataTable =\n",
              "            await google.colab.kernel.invokeFunction('convertToInteractive',\n",
              "                                                     [key], {});\n",
              "          if (!dataTable) return;\n",
              "\n",
              "          const docLinkHtml = 'Like what you see? Visit the ' +\n",
              "            '<a target=\"_blank\" href=https://colab.research.google.com/notebooks/data_table.ipynb>data table notebook</a>'\n",
              "            + ' to learn more about interactive tables.';\n",
              "          element.innerHTML = '';\n",
              "          dataTable['output_type'] = 'display_data';\n",
              "          await google.colab.output.renderOutput(dataTable, element);\n",
              "          const docLink = document.createElement('div');\n",
              "          docLink.innerHTML = docLinkHtml;\n",
              "          element.appendChild(docLink);\n",
              "        }\n",
              "      </script>\n",
              "    </div>\n",
              "  </div>\n",
              "  "
            ]
          },
          "metadata": {},
          "execution_count": 19
        }
      ]
    },
    {
      "cell_type": "markdown",
      "metadata": {
        "id": "14A7tQYoV8PH"
      },
      "source": [
        " The `info` method gives us a summary information: "
      ]
    },
    {
      "cell_type": "code",
      "metadata": {
        "colab": {
          "base_uri": "https://localhost:8080/"
        },
        "id": "cOKXPWk3N6sm",
        "outputId": "fdb25fa4-38dd-423e-cfd7-2086bac87a31"
      },
      "source": [
        "df.info()"
      ],
      "execution_count": 20,
      "outputs": [
        {
          "output_type": "stream",
          "name": "stdout",
          "text": [
            "<class 'pandas.core.frame.DataFrame'>\n",
            "RangeIndex: 9080 entries, 0 to 9079\n",
            "Data columns (total 11 columns):\n",
            " #   Column        Non-Null Count  Dtype \n",
            "---  ------        --------------  ----- \n",
            " 0   Make          9080 non-null   object\n",
            " 1   Model         9080 non-null   object\n",
            " 2   Year          9080 non-null   int64 \n",
            " 3   Mileage       9080 non-null   int64 \n",
            " 4   Price         9080 non-null   int64 \n",
            " 5   Body Style    9080 non-null   object\n",
            " 6   Ex Color      9080 non-null   object\n",
            " 7   In Color      9080 non-null   object\n",
            " 8   Engine        9080 non-null   object\n",
            " 9   Transmission  9080 non-null   object\n",
            " 10  Doors         9080 non-null   int64 \n",
            "dtypes: int64(4), object(7)\n",
            "memory usage: 780.4+ KB\n"
          ]
        }
      ]
    },
    {
      "cell_type": "markdown",
      "metadata": {
        "id": "C5LylI4xWT9N"
      },
      "source": [
        "We should notice that the data-types are not exactly correct. For instance, the type for the `Doors` attribute (column) is inferred as numeric (64-bit integer), but this is wrong (why?). \n",
        "\n",
        "So let's fix them! "
      ]
    },
    {
      "cell_type": "code",
      "metadata": {
        "id": "vZjVv-6mXrAe"
      },
      "source": [
        "df = df.astype({'Make':'category', 'Model':'category', 'Year':'category', \n",
        "                'Mileage':'int32', 'Price':'int64', 'Body Style':'category', \n",
        "                'Ex Color':'category' , 'In Color':'category', \n",
        "                'Engine':'category', 'Transmission':'category', 'Doors':'category'})"
      ],
      "execution_count": 21,
      "outputs": []
    },
    {
      "cell_type": "code",
      "source": [
        "df.info()"
      ],
      "metadata": {
        "colab": {
          "base_uri": "https://localhost:8080/"
        },
        "id": "SG9_efHm5gaJ",
        "outputId": "b377a35f-44ac-43b4-a77f-5112595bf9e9"
      },
      "execution_count": 22,
      "outputs": [
        {
          "output_type": "stream",
          "name": "stdout",
          "text": [
            "<class 'pandas.core.frame.DataFrame'>\n",
            "RangeIndex: 9080 entries, 0 to 9079\n",
            "Data columns (total 11 columns):\n",
            " #   Column        Non-Null Count  Dtype   \n",
            "---  ------        --------------  -----   \n",
            " 0   Make          9080 non-null   category\n",
            " 1   Model         9080 non-null   category\n",
            " 2   Year          9080 non-null   category\n",
            " 3   Mileage       9080 non-null   int32   \n",
            " 4   Price         9080 non-null   int64   \n",
            " 5   Body Style    9080 non-null   category\n",
            " 6   Ex Color      9080 non-null   category\n",
            " 7   In Color      9080 non-null   category\n",
            " 8   Engine        9080 non-null   category\n",
            " 9   Transmission  9080 non-null   category\n",
            " 10  Doors         9080 non-null   category\n",
            "dtypes: category(9), int32(1), int64(1)\n",
            "memory usage: 239.9 KB\n"
          ]
        }
      ]
    },
    {
      "cell_type": "markdown",
      "metadata": {
        "id": "HG2CamjdPfFs"
      },
      "source": [
        "\n",
        "\n",
        "## 2. Basic exploratory questions using Python\n",
        "\n"
      ]
    },
    {
      "cell_type": "markdown",
      "metadata": {
        "id": "fqbI6DWNaOxc"
      },
      "source": [
        "Here I will compute various summary statistics, which are quantities, such as the mean and standard deviation, that capture various characteristics of a potentially large set of values with a single number or a small set of numbers. \n"
      ]
    },
    {
      "cell_type": "markdown",
      "metadata": {
        "id": "LIDYDNj7TJdd"
      },
      "source": [
        "> a. Number of instances in the dataset"
      ]
    },
    {
      "cell_type": "code",
      "metadata": {
        "colab": {
          "base_uri": "https://localhost:8080/"
        },
        "id": "PHyGIQ2OTwfl",
        "outputId": "bbc299b0-853d-462f-e41d-2bd82f3bd331"
      },
      "source": [
        "print(df.shape)"
      ],
      "execution_count": 23,
      "outputs": [
        {
          "output_type": "stream",
          "name": "stdout",
          "text": [
            "(9080, 11)\n"
          ]
        }
      ]
    },
    {
      "cell_type": "markdown",
      "metadata": {
        "id": "IGbvaybkUIUR"
      },
      "source": [
        "> b. Number of attributes"
      ]
    },
    {
      "cell_type": "code",
      "metadata": {
        "colab": {
          "base_uri": "https://localhost:8080/"
        },
        "id": "Lq38Z5FVRQ5i",
        "outputId": "21dc0755-17ea-445d-9b4e-4ed163635ed5"
      },
      "source": [
        "print(df.shape)"
      ],
      "execution_count": 24,
      "outputs": [
        {
          "output_type": "stream",
          "name": "stdout",
          "text": [
            "(9080, 11)\n"
          ]
        }
      ]
    },
    {
      "cell_type": "markdown",
      "metadata": {
        "id": "8SPh2orQW8KG"
      },
      "source": [
        "> c. The attributes"
      ]
    },
    {
      "cell_type": "code",
      "metadata": {
        "colab": {
          "base_uri": "https://localhost:8080/"
        },
        "id": "BzDyp-DvXDiw",
        "outputId": "1c03e4af-15c9-45c3-bd96-12a5cc844653"
      },
      "source": [
        "print(df.columns)"
      ],
      "execution_count": 25,
      "outputs": [
        {
          "output_type": "stream",
          "name": "stdout",
          "text": [
            "Index(['Make', 'Model', 'Year', 'Mileage', 'Price', 'Body Style', 'Ex Color',\n",
            "       'In Color', 'Engine', 'Transmission', 'Doors'],\n",
            "      dtype='object')\n"
          ]
        }
      ]
    },
    {
      "cell_type": "markdown",
      "metadata": {
        "id": "5CvTYxKMXQ_5"
      },
      "source": [
        "> d. The possible values for **Body Style** & **External Color**"
      ]
    },
    {
      "cell_type": "code",
      "metadata": {
        "colab": {
          "base_uri": "https://localhost:8080/"
        },
        "id": "-bIdyCeWXhFG",
        "outputId": "b38eb6e3-4e98-4f0b-8980-81715428efec"
      },
      "source": [
        "print('Possible body styles:')\n",
        "print(df['Body Style'].unique())\n",
        "\n",
        "\n",
        "print('Possible external colours:')\n",
        "print(df['Ex Color'].unique())"
      ],
      "execution_count": 26,
      "outputs": [
        {
          "output_type": "stream",
          "name": "stdout",
          "text": [
            "Possible body styles:\n",
            "['Sedan', 'SUV', 'Hatchback', 'Wagon', 'Coupe', 'Minivan', 'Van', 'Pickup', 'Convertible', 'Chassis']\n",
            "Categories (10, object): ['Chassis', 'Convertible', 'Coupe', 'Hatchback', ..., 'SUV', 'Sedan', 'Van',\n",
            "                          'Wagon']\n",
            "Possible external colours:\n",
            "['Gray', 'Silver', 'Black', 'White', 'Red', ..., 'Orange', 'Beige', 'Yellow', 'Bronze', 'Pink']\n",
            "Length: 15\n",
            "Categories (15, object): ['Beige', 'Black', 'Blue', 'Bronze', ..., 'Red', 'Silver', 'White', 'Yellow']\n"
          ]
        }
      ]
    },
    {
      "cell_type": "markdown",
      "metadata": {
        "id": "nNED-99zZf6w"
      },
      "source": [
        "e. The *minimum*, *maximum*, *average*, *median* and *standard deviation* price."
      ]
    },
    {
      "cell_type": "code",
      "metadata": {
        "colab": {
          "base_uri": "https://localhost:8080/"
        },
        "id": "NRvSaH7IZppP",
        "outputId": "9dc0a2e0-0fe8-452d-cd63-887d74e6e48c"
      },
      "source": [
        "# these are easy, to get the minimum:\n",
        "print('min = {}'.format(df['Price'].min()))\n",
        "print('max = {}'.format(df['Price'].max()))\n",
        "print('mean = {}'.format(df['Price'].mean()))\n",
        "print('median = {}'.format(df['Price'].median()))\n",
        "print('Standard deviation = {}'.format(df['Price'].std()))"
      ],
      "execution_count": 27,
      "outputs": [
        {
          "output_type": "stream",
          "name": "stdout",
          "text": [
            "min = 1490\n",
            "max = 499898\n",
            "mean = 24410.92665198238\n",
            "median = 21500.0\n",
            "Standard deviation = 16300.355338946358\n"
          ]
        }
      ]
    },
    {
      "cell_type": "markdown",
      "metadata": {
        "id": "Yk9PQPvIbQpl"
      },
      "source": [
        "> f. The most common year of car"
      ]
    },
    {
      "cell_type": "code",
      "metadata": {
        "colab": {
          "base_uri": "https://localhost:8080/"
        },
        "id": "b2mcEe-hbrpc",
        "outputId": "437785ba-4b78-4dc7-faf1-f5eab3bba9e7"
      },
      "source": [
        "print(df['Year'].mode())\n"
      ],
      "execution_count": 28,
      "outputs": [
        {
          "output_type": "stream",
          "name": "stdout",
          "text": [
            "0    2011\n",
            "Name: Year, dtype: category\n",
            "Categories (24, int64): [1990, 1993, 1994, 1995, ..., 2012, 2013, 2014, 2015]\n"
          ]
        }
      ]
    },
    {
      "cell_type": "markdown",
      "metadata": {
        "id": "2XLXYcq7cd9F"
      },
      "source": [
        "> g. The ratio of 2-door to 4-door cars? "
      ]
    },
    {
      "cell_type": "code",
      "metadata": {
        "colab": {
          "base_uri": "https://localhost:8080/"
        },
        "id": "fZrDVln8bAVc",
        "outputId": "64011a7a-ce0b-4020-a445-8e6c4663ceef"
      },
      "source": [
        "print(df['Doors'].value_counts())\n",
        "Converted_result=df['Doors'].value_counts().to_list()\n",
        "print(Converted_result)\n",
        "print('The ratio of 2-door to 4-door cars is: {}'.format(Converted_result[1]/Converted_result[0]))"
      ],
      "execution_count": 29,
      "outputs": [
        {
          "output_type": "stream",
          "name": "stdout",
          "text": [
            "4    8221\n",
            "2     766\n",
            "3      93\n",
            "Name: Doors, dtype: int64\n",
            "[8221, 766, 93]\n",
            "The ratio of 2-door to 4-door cars is: 0.09317601265052913\n"
          ]
        }
      ]
    },
    {
      "cell_type": "markdown",
      "metadata": {
        "id": "BbxDhMO0dj6h"
      },
      "source": [
        "> h. The average price of a Honda car versus a Mercedes-Benz car"
      ]
    },
    {
      "cell_type": "code",
      "metadata": {
        "colab": {
          "base_uri": "https://localhost:8080/"
        },
        "id": "T6yes3WGdvJ2",
        "outputId": "b944fbff-ee47-476c-860e-e9418e0820a7"
      },
      "source": [
        "print('Average price of a Honda car = {:.2f}'.format(df.loc[df['Make'] == 'Honda']['Price'].mean()))\n",
        "print('Average price of a Mercedes-Benz car = {:.2f}'.format(df.loc[df['Make'] == 'Mercedes-Benz']['Price'].mean()))"
      ],
      "execution_count": 30,
      "outputs": [
        {
          "output_type": "stream",
          "name": "stdout",
          "text": [
            "Average price of a Honda car = 18337.49\n",
            "Average price of a Mercedes-Benz car = 37620.97\n"
          ]
        }
      ]
    },
    {
      "cell_type": "markdown",
      "metadata": {
        "id": "BclyRz7JaOxh"
      },
      "source": [
        "> i. To display the summary for all the attributes simultaneously in a table using the describe() function. \n"
      ]
    },
    {
      "cell_type": "code",
      "metadata": {
        "colab": {
          "base_uri": "https://localhost:8080/",
          "height": 394
        },
        "id": "9_GBBQt-aOxh",
        "outputId": "a8fbeec0-5d7f-46ca-d3be-b71920d53698"
      },
      "source": [
        "df.describe(include='all')"
      ],
      "execution_count": 31,
      "outputs": [
        {
          "output_type": "execute_result",
          "data": {
            "text/plain": [
              "          Make     Model    Year        Mileage          Price Body Style  \\\n",
              "count     9080      9080  9080.0    9080.000000    9080.000000       9080   \n",
              "unique      49      1060    24.0            NaN            NaN         10   \n",
              "top     Nissan  Altima S  2011.0            NaN            NaN      Sedan   \n",
              "freq      1035       197  2641.0            NaN            NaN       3905   \n",
              "mean       NaN       NaN     NaN   41875.531057   24410.926652        NaN   \n",
              "std        NaN       NaN     NaN   33146.564303   16300.355339        NaN   \n",
              "min        NaN       NaN     NaN       1.000000    1490.000000        NaN   \n",
              "25%        NaN       NaN     NaN   20112.250000   15987.750000        NaN   \n",
              "50%        NaN       NaN     NaN   33532.000000   21500.000000        NaN   \n",
              "75%        NaN       NaN     NaN   52564.500000   28998.000000        NaN   \n",
              "max        NaN       NaN     NaN  279950.000000  499898.000000        NaN   \n",
              "\n",
              "       Ex Color In Color Engine Transmission   Doors  \n",
              "count      9080     9080   9080         9080  9080.0  \n",
              "unique       15        9     10            2     3.0  \n",
              "top       Black    Black  6 Cyl    Automatic     4.0  \n",
              "freq       2404     4164   4313         8797  8221.0  \n",
              "mean        NaN      NaN    NaN          NaN     NaN  \n",
              "std         NaN      NaN    NaN          NaN     NaN  \n",
              "min         NaN      NaN    NaN          NaN     NaN  \n",
              "25%         NaN      NaN    NaN          NaN     NaN  \n",
              "50%         NaN      NaN    NaN          NaN     NaN  \n",
              "75%         NaN      NaN    NaN          NaN     NaN  \n",
              "max         NaN      NaN    NaN          NaN     NaN  "
            ],
            "text/html": [
              "\n",
              "  <div id=\"df-3b2c4401-58ff-457c-be97-591911febbe7\">\n",
              "    <div class=\"colab-df-container\">\n",
              "      <div>\n",
              "<style scoped>\n",
              "    .dataframe tbody tr th:only-of-type {\n",
              "        vertical-align: middle;\n",
              "    }\n",
              "\n",
              "    .dataframe tbody tr th {\n",
              "        vertical-align: top;\n",
              "    }\n",
              "\n",
              "    .dataframe thead th {\n",
              "        text-align: right;\n",
              "    }\n",
              "</style>\n",
              "<table border=\"1\" class=\"dataframe\">\n",
              "  <thead>\n",
              "    <tr style=\"text-align: right;\">\n",
              "      <th></th>\n",
              "      <th>Make</th>\n",
              "      <th>Model</th>\n",
              "      <th>Year</th>\n",
              "      <th>Mileage</th>\n",
              "      <th>Price</th>\n",
              "      <th>Body Style</th>\n",
              "      <th>Ex Color</th>\n",
              "      <th>In Color</th>\n",
              "      <th>Engine</th>\n",
              "      <th>Transmission</th>\n",
              "      <th>Doors</th>\n",
              "    </tr>\n",
              "  </thead>\n",
              "  <tbody>\n",
              "    <tr>\n",
              "      <th>count</th>\n",
              "      <td>9080</td>\n",
              "      <td>9080</td>\n",
              "      <td>9080.0</td>\n",
              "      <td>9080.000000</td>\n",
              "      <td>9080.000000</td>\n",
              "      <td>9080</td>\n",
              "      <td>9080</td>\n",
              "      <td>9080</td>\n",
              "      <td>9080</td>\n",
              "      <td>9080</td>\n",
              "      <td>9080.0</td>\n",
              "    </tr>\n",
              "    <tr>\n",
              "      <th>unique</th>\n",
              "      <td>49</td>\n",
              "      <td>1060</td>\n",
              "      <td>24.0</td>\n",
              "      <td>NaN</td>\n",
              "      <td>NaN</td>\n",
              "      <td>10</td>\n",
              "      <td>15</td>\n",
              "      <td>9</td>\n",
              "      <td>10</td>\n",
              "      <td>2</td>\n",
              "      <td>3.0</td>\n",
              "    </tr>\n",
              "    <tr>\n",
              "      <th>top</th>\n",
              "      <td>Nissan</td>\n",
              "      <td>Altima S</td>\n",
              "      <td>2011.0</td>\n",
              "      <td>NaN</td>\n",
              "      <td>NaN</td>\n",
              "      <td>Sedan</td>\n",
              "      <td>Black</td>\n",
              "      <td>Black</td>\n",
              "      <td>6 Cyl</td>\n",
              "      <td>Automatic</td>\n",
              "      <td>4.0</td>\n",
              "    </tr>\n",
              "    <tr>\n",
              "      <th>freq</th>\n",
              "      <td>1035</td>\n",
              "      <td>197</td>\n",
              "      <td>2641.0</td>\n",
              "      <td>NaN</td>\n",
              "      <td>NaN</td>\n",
              "      <td>3905</td>\n",
              "      <td>2404</td>\n",
              "      <td>4164</td>\n",
              "      <td>4313</td>\n",
              "      <td>8797</td>\n",
              "      <td>8221.0</td>\n",
              "    </tr>\n",
              "    <tr>\n",
              "      <th>mean</th>\n",
              "      <td>NaN</td>\n",
              "      <td>NaN</td>\n",
              "      <td>NaN</td>\n",
              "      <td>41875.531057</td>\n",
              "      <td>24410.926652</td>\n",
              "      <td>NaN</td>\n",
              "      <td>NaN</td>\n",
              "      <td>NaN</td>\n",
              "      <td>NaN</td>\n",
              "      <td>NaN</td>\n",
              "      <td>NaN</td>\n",
              "    </tr>\n",
              "    <tr>\n",
              "      <th>std</th>\n",
              "      <td>NaN</td>\n",
              "      <td>NaN</td>\n",
              "      <td>NaN</td>\n",
              "      <td>33146.564303</td>\n",
              "      <td>16300.355339</td>\n",
              "      <td>NaN</td>\n",
              "      <td>NaN</td>\n",
              "      <td>NaN</td>\n",
              "      <td>NaN</td>\n",
              "      <td>NaN</td>\n",
              "      <td>NaN</td>\n",
              "    </tr>\n",
              "    <tr>\n",
              "      <th>min</th>\n",
              "      <td>NaN</td>\n",
              "      <td>NaN</td>\n",
              "      <td>NaN</td>\n",
              "      <td>1.000000</td>\n",
              "      <td>1490.000000</td>\n",
              "      <td>NaN</td>\n",
              "      <td>NaN</td>\n",
              "      <td>NaN</td>\n",
              "      <td>NaN</td>\n",
              "      <td>NaN</td>\n",
              "      <td>NaN</td>\n",
              "    </tr>\n",
              "    <tr>\n",
              "      <th>25%</th>\n",
              "      <td>NaN</td>\n",
              "      <td>NaN</td>\n",
              "      <td>NaN</td>\n",
              "      <td>20112.250000</td>\n",
              "      <td>15987.750000</td>\n",
              "      <td>NaN</td>\n",
              "      <td>NaN</td>\n",
              "      <td>NaN</td>\n",
              "      <td>NaN</td>\n",
              "      <td>NaN</td>\n",
              "      <td>NaN</td>\n",
              "    </tr>\n",
              "    <tr>\n",
              "      <th>50%</th>\n",
              "      <td>NaN</td>\n",
              "      <td>NaN</td>\n",
              "      <td>NaN</td>\n",
              "      <td>33532.000000</td>\n",
              "      <td>21500.000000</td>\n",
              "      <td>NaN</td>\n",
              "      <td>NaN</td>\n",
              "      <td>NaN</td>\n",
              "      <td>NaN</td>\n",
              "      <td>NaN</td>\n",
              "      <td>NaN</td>\n",
              "    </tr>\n",
              "    <tr>\n",
              "      <th>75%</th>\n",
              "      <td>NaN</td>\n",
              "      <td>NaN</td>\n",
              "      <td>NaN</td>\n",
              "      <td>52564.500000</td>\n",
              "      <td>28998.000000</td>\n",
              "      <td>NaN</td>\n",
              "      <td>NaN</td>\n",
              "      <td>NaN</td>\n",
              "      <td>NaN</td>\n",
              "      <td>NaN</td>\n",
              "      <td>NaN</td>\n",
              "    </tr>\n",
              "    <tr>\n",
              "      <th>max</th>\n",
              "      <td>NaN</td>\n",
              "      <td>NaN</td>\n",
              "      <td>NaN</td>\n",
              "      <td>279950.000000</td>\n",
              "      <td>499898.000000</td>\n",
              "      <td>NaN</td>\n",
              "      <td>NaN</td>\n",
              "      <td>NaN</td>\n",
              "      <td>NaN</td>\n",
              "      <td>NaN</td>\n",
              "      <td>NaN</td>\n",
              "    </tr>\n",
              "  </tbody>\n",
              "</table>\n",
              "</div>\n",
              "      <button class=\"colab-df-convert\" onclick=\"convertToInteractive('df-3b2c4401-58ff-457c-be97-591911febbe7')\"\n",
              "              title=\"Convert this dataframe to an interactive table.\"\n",
              "              style=\"display:none;\">\n",
              "        \n",
              "  <svg xmlns=\"http://www.w3.org/2000/svg\" height=\"24px\"viewBox=\"0 0 24 24\"\n",
              "       width=\"24px\">\n",
              "    <path d=\"M0 0h24v24H0V0z\" fill=\"none\"/>\n",
              "    <path d=\"M18.56 5.44l.94 2.06.94-2.06 2.06-.94-2.06-.94-.94-2.06-.94 2.06-2.06.94zm-11 1L8.5 8.5l.94-2.06 2.06-.94-2.06-.94L8.5 2.5l-.94 2.06-2.06.94zm10 10l.94 2.06.94-2.06 2.06-.94-2.06-.94-.94-2.06-.94 2.06-2.06.94z\"/><path d=\"M17.41 7.96l-1.37-1.37c-.4-.4-.92-.59-1.43-.59-.52 0-1.04.2-1.43.59L10.3 9.45l-7.72 7.72c-.78.78-.78 2.05 0 2.83L4 21.41c.39.39.9.59 1.41.59.51 0 1.02-.2 1.41-.59l7.78-7.78 2.81-2.81c.8-.78.8-2.07 0-2.86zM5.41 20L4 18.59l7.72-7.72 1.47 1.35L5.41 20z\"/>\n",
              "  </svg>\n",
              "      </button>\n",
              "      \n",
              "  <style>\n",
              "    .colab-df-container {\n",
              "      display:flex;\n",
              "      flex-wrap:wrap;\n",
              "      gap: 12px;\n",
              "    }\n",
              "\n",
              "    .colab-df-convert {\n",
              "      background-color: #E8F0FE;\n",
              "      border: none;\n",
              "      border-radius: 50%;\n",
              "      cursor: pointer;\n",
              "      display: none;\n",
              "      fill: #1967D2;\n",
              "      height: 32px;\n",
              "      padding: 0 0 0 0;\n",
              "      width: 32px;\n",
              "    }\n",
              "\n",
              "    .colab-df-convert:hover {\n",
              "      background-color: #E2EBFA;\n",
              "      box-shadow: 0px 1px 2px rgba(60, 64, 67, 0.3), 0px 1px 3px 1px rgba(60, 64, 67, 0.15);\n",
              "      fill: #174EA6;\n",
              "    }\n",
              "\n",
              "    [theme=dark] .colab-df-convert {\n",
              "      background-color: #3B4455;\n",
              "      fill: #D2E3FC;\n",
              "    }\n",
              "\n",
              "    [theme=dark] .colab-df-convert:hover {\n",
              "      background-color: #434B5C;\n",
              "      box-shadow: 0px 1px 3px 1px rgba(0, 0, 0, 0.15);\n",
              "      filter: drop-shadow(0px 1px 2px rgba(0, 0, 0, 0.3));\n",
              "      fill: #FFFFFF;\n",
              "    }\n",
              "  </style>\n",
              "\n",
              "      <script>\n",
              "        const buttonEl =\n",
              "          document.querySelector('#df-3b2c4401-58ff-457c-be97-591911febbe7 button.colab-df-convert');\n",
              "        buttonEl.style.display =\n",
              "          google.colab.kernel.accessAllowed ? 'block' : 'none';\n",
              "\n",
              "        async function convertToInteractive(key) {\n",
              "          const element = document.querySelector('#df-3b2c4401-58ff-457c-be97-591911febbe7');\n",
              "          const dataTable =\n",
              "            await google.colab.kernel.invokeFunction('convertToInteractive',\n",
              "                                                     [key], {});\n",
              "          if (!dataTable) return;\n",
              "\n",
              "          const docLinkHtml = 'Like what you see? Visit the ' +\n",
              "            '<a target=\"_blank\" href=https://colab.research.google.com/notebooks/data_table.ipynb>data table notebook</a>'\n",
              "            + ' to learn more about interactive tables.';\n",
              "          element.innerHTML = '';\n",
              "          dataTable['output_type'] = 'display_data';\n",
              "          await google.colab.output.renderOutput(dataTable, element);\n",
              "          const docLink = document.createElement('div');\n",
              "          docLink.innerHTML = docLinkHtml;\n",
              "          element.appendChild(docLink);\n",
              "        }\n",
              "      </script>\n",
              "    </div>\n",
              "  </div>\n",
              "  "
            ]
          },
          "metadata": {},
          "execution_count": 31
        }
      ]
    },
    {
      "cell_type": "markdown",
      "metadata": {
        "id": "BneXicfBaOxm"
      },
      "source": [
        "> j. Can compute the covariance and correlation between pairs of attributes for multivariate statistics"
      ]
    },
    {
      "cell_type": "code",
      "metadata": {
        "colab": {
          "base_uri": "https://localhost:8080/",
          "height": 131
        },
        "id": "APswWEUBaOxm",
        "outputId": "9ec8f296-0635-44e8-d48f-ad15c39b8e2a"
      },
      "source": [
        "print('Covariance:')\n",
        "df.cov()"
      ],
      "execution_count": 32,
      "outputs": [
        {
          "output_type": "stream",
          "name": "stdout",
          "text": [
            "Covariance:\n"
          ]
        },
        {
          "output_type": "execute_result",
          "data": {
            "text/plain": [
              "              Mileage         Price\n",
              "Mileage  1.098695e+09 -2.188586e+08\n",
              "Price   -2.188586e+08  2.657016e+08"
            ],
            "text/html": [
              "\n",
              "  <div id=\"df-001009c1-d4b8-4850-a301-466516b90523\">\n",
              "    <div class=\"colab-df-container\">\n",
              "      <div>\n",
              "<style scoped>\n",
              "    .dataframe tbody tr th:only-of-type {\n",
              "        vertical-align: middle;\n",
              "    }\n",
              "\n",
              "    .dataframe tbody tr th {\n",
              "        vertical-align: top;\n",
              "    }\n",
              "\n",
              "    .dataframe thead th {\n",
              "        text-align: right;\n",
              "    }\n",
              "</style>\n",
              "<table border=\"1\" class=\"dataframe\">\n",
              "  <thead>\n",
              "    <tr style=\"text-align: right;\">\n",
              "      <th></th>\n",
              "      <th>Mileage</th>\n",
              "      <th>Price</th>\n",
              "    </tr>\n",
              "  </thead>\n",
              "  <tbody>\n",
              "    <tr>\n",
              "      <th>Mileage</th>\n",
              "      <td>1.098695e+09</td>\n",
              "      <td>-2.188586e+08</td>\n",
              "    </tr>\n",
              "    <tr>\n",
              "      <th>Price</th>\n",
              "      <td>-2.188586e+08</td>\n",
              "      <td>2.657016e+08</td>\n",
              "    </tr>\n",
              "  </tbody>\n",
              "</table>\n",
              "</div>\n",
              "      <button class=\"colab-df-convert\" onclick=\"convertToInteractive('df-001009c1-d4b8-4850-a301-466516b90523')\"\n",
              "              title=\"Convert this dataframe to an interactive table.\"\n",
              "              style=\"display:none;\">\n",
              "        \n",
              "  <svg xmlns=\"http://www.w3.org/2000/svg\" height=\"24px\"viewBox=\"0 0 24 24\"\n",
              "       width=\"24px\">\n",
              "    <path d=\"M0 0h24v24H0V0z\" fill=\"none\"/>\n",
              "    <path d=\"M18.56 5.44l.94 2.06.94-2.06 2.06-.94-2.06-.94-.94-2.06-.94 2.06-2.06.94zm-11 1L8.5 8.5l.94-2.06 2.06-.94-2.06-.94L8.5 2.5l-.94 2.06-2.06.94zm10 10l.94 2.06.94-2.06 2.06-.94-2.06-.94-.94-2.06-.94 2.06-2.06.94z\"/><path d=\"M17.41 7.96l-1.37-1.37c-.4-.4-.92-.59-1.43-.59-.52 0-1.04.2-1.43.59L10.3 9.45l-7.72 7.72c-.78.78-.78 2.05 0 2.83L4 21.41c.39.39.9.59 1.41.59.51 0 1.02-.2 1.41-.59l7.78-7.78 2.81-2.81c.8-.78.8-2.07 0-2.86zM5.41 20L4 18.59l7.72-7.72 1.47 1.35L5.41 20z\"/>\n",
              "  </svg>\n",
              "      </button>\n",
              "      \n",
              "  <style>\n",
              "    .colab-df-container {\n",
              "      display:flex;\n",
              "      flex-wrap:wrap;\n",
              "      gap: 12px;\n",
              "    }\n",
              "\n",
              "    .colab-df-convert {\n",
              "      background-color: #E8F0FE;\n",
              "      border: none;\n",
              "      border-radius: 50%;\n",
              "      cursor: pointer;\n",
              "      display: none;\n",
              "      fill: #1967D2;\n",
              "      height: 32px;\n",
              "      padding: 0 0 0 0;\n",
              "      width: 32px;\n",
              "    }\n",
              "\n",
              "    .colab-df-convert:hover {\n",
              "      background-color: #E2EBFA;\n",
              "      box-shadow: 0px 1px 2px rgba(60, 64, 67, 0.3), 0px 1px 3px 1px rgba(60, 64, 67, 0.15);\n",
              "      fill: #174EA6;\n",
              "    }\n",
              "\n",
              "    [theme=dark] .colab-df-convert {\n",
              "      background-color: #3B4455;\n",
              "      fill: #D2E3FC;\n",
              "    }\n",
              "\n",
              "    [theme=dark] .colab-df-convert:hover {\n",
              "      background-color: #434B5C;\n",
              "      box-shadow: 0px 1px 3px 1px rgba(0, 0, 0, 0.15);\n",
              "      filter: drop-shadow(0px 1px 2px rgba(0, 0, 0, 0.3));\n",
              "      fill: #FFFFFF;\n",
              "    }\n",
              "  </style>\n",
              "\n",
              "      <script>\n",
              "        const buttonEl =\n",
              "          document.querySelector('#df-001009c1-d4b8-4850-a301-466516b90523 button.colab-df-convert');\n",
              "        buttonEl.style.display =\n",
              "          google.colab.kernel.accessAllowed ? 'block' : 'none';\n",
              "\n",
              "        async function convertToInteractive(key) {\n",
              "          const element = document.querySelector('#df-001009c1-d4b8-4850-a301-466516b90523');\n",
              "          const dataTable =\n",
              "            await google.colab.kernel.invokeFunction('convertToInteractive',\n",
              "                                                     [key], {});\n",
              "          if (!dataTable) return;\n",
              "\n",
              "          const docLinkHtml = 'Like what you see? Visit the ' +\n",
              "            '<a target=\"_blank\" href=https://colab.research.google.com/notebooks/data_table.ipynb>data table notebook</a>'\n",
              "            + ' to learn more about interactive tables.';\n",
              "          element.innerHTML = '';\n",
              "          dataTable['output_type'] = 'display_data';\n",
              "          await google.colab.output.renderOutput(dataTable, element);\n",
              "          const docLink = document.createElement('div');\n",
              "          docLink.innerHTML = docLinkHtml;\n",
              "          element.appendChild(docLink);\n",
              "        }\n",
              "      </script>\n",
              "    </div>\n",
              "  </div>\n",
              "  "
            ]
          },
          "metadata": {},
          "execution_count": 32
        }
      ]
    },
    {
      "cell_type": "code",
      "source": [
        "print('Covariance:')\n",
        "df.corr()"
      ],
      "metadata": {
        "colab": {
          "base_uri": "https://localhost:8080/",
          "height": 131
        },
        "id": "ppEy_a9LAXwd",
        "outputId": "80373431-f314-4dfe-d1c0-5771e5da0bea"
      },
      "execution_count": 33,
      "outputs": [
        {
          "output_type": "stream",
          "name": "stdout",
          "text": [
            "Covariance:\n"
          ]
        },
        {
          "output_type": "execute_result",
          "data": {
            "text/plain": [
              "          Mileage     Price\n",
              "Mileage  1.000000 -0.405068\n",
              "Price   -0.405068  1.000000"
            ],
            "text/html": [
              "\n",
              "  <div id=\"df-5c461834-e68c-405d-a3f2-2a088dde91fd\">\n",
              "    <div class=\"colab-df-container\">\n",
              "      <div>\n",
              "<style scoped>\n",
              "    .dataframe tbody tr th:only-of-type {\n",
              "        vertical-align: middle;\n",
              "    }\n",
              "\n",
              "    .dataframe tbody tr th {\n",
              "        vertical-align: top;\n",
              "    }\n",
              "\n",
              "    .dataframe thead th {\n",
              "        text-align: right;\n",
              "    }\n",
              "</style>\n",
              "<table border=\"1\" class=\"dataframe\">\n",
              "  <thead>\n",
              "    <tr style=\"text-align: right;\">\n",
              "      <th></th>\n",
              "      <th>Mileage</th>\n",
              "      <th>Price</th>\n",
              "    </tr>\n",
              "  </thead>\n",
              "  <tbody>\n",
              "    <tr>\n",
              "      <th>Mileage</th>\n",
              "      <td>1.000000</td>\n",
              "      <td>-0.405068</td>\n",
              "    </tr>\n",
              "    <tr>\n",
              "      <th>Price</th>\n",
              "      <td>-0.405068</td>\n",
              "      <td>1.000000</td>\n",
              "    </tr>\n",
              "  </tbody>\n",
              "</table>\n",
              "</div>\n",
              "      <button class=\"colab-df-convert\" onclick=\"convertToInteractive('df-5c461834-e68c-405d-a3f2-2a088dde91fd')\"\n",
              "              title=\"Convert this dataframe to an interactive table.\"\n",
              "              style=\"display:none;\">\n",
              "        \n",
              "  <svg xmlns=\"http://www.w3.org/2000/svg\" height=\"24px\"viewBox=\"0 0 24 24\"\n",
              "       width=\"24px\">\n",
              "    <path d=\"M0 0h24v24H0V0z\" fill=\"none\"/>\n",
              "    <path d=\"M18.56 5.44l.94 2.06.94-2.06 2.06-.94-2.06-.94-.94-2.06-.94 2.06-2.06.94zm-11 1L8.5 8.5l.94-2.06 2.06-.94-2.06-.94L8.5 2.5l-.94 2.06-2.06.94zm10 10l.94 2.06.94-2.06 2.06-.94-2.06-.94-.94-2.06-.94 2.06-2.06.94z\"/><path d=\"M17.41 7.96l-1.37-1.37c-.4-.4-.92-.59-1.43-.59-.52 0-1.04.2-1.43.59L10.3 9.45l-7.72 7.72c-.78.78-.78 2.05 0 2.83L4 21.41c.39.39.9.59 1.41.59.51 0 1.02-.2 1.41-.59l7.78-7.78 2.81-2.81c.8-.78.8-2.07 0-2.86zM5.41 20L4 18.59l7.72-7.72 1.47 1.35L5.41 20z\"/>\n",
              "  </svg>\n",
              "      </button>\n",
              "      \n",
              "  <style>\n",
              "    .colab-df-container {\n",
              "      display:flex;\n",
              "      flex-wrap:wrap;\n",
              "      gap: 12px;\n",
              "    }\n",
              "\n",
              "    .colab-df-convert {\n",
              "      background-color: #E8F0FE;\n",
              "      border: none;\n",
              "      border-radius: 50%;\n",
              "      cursor: pointer;\n",
              "      display: none;\n",
              "      fill: #1967D2;\n",
              "      height: 32px;\n",
              "      padding: 0 0 0 0;\n",
              "      width: 32px;\n",
              "    }\n",
              "\n",
              "    .colab-df-convert:hover {\n",
              "      background-color: #E2EBFA;\n",
              "      box-shadow: 0px 1px 2px rgba(60, 64, 67, 0.3), 0px 1px 3px 1px rgba(60, 64, 67, 0.15);\n",
              "      fill: #174EA6;\n",
              "    }\n",
              "\n",
              "    [theme=dark] .colab-df-convert {\n",
              "      background-color: #3B4455;\n",
              "      fill: #D2E3FC;\n",
              "    }\n",
              "\n",
              "    [theme=dark] .colab-df-convert:hover {\n",
              "      background-color: #434B5C;\n",
              "      box-shadow: 0px 1px 3px 1px rgba(0, 0, 0, 0.15);\n",
              "      filter: drop-shadow(0px 1px 2px rgba(0, 0, 0, 0.3));\n",
              "      fill: #FFFFFF;\n",
              "    }\n",
              "  </style>\n",
              "\n",
              "      <script>\n",
              "        const buttonEl =\n",
              "          document.querySelector('#df-5c461834-e68c-405d-a3f2-2a088dde91fd button.colab-df-convert');\n",
              "        buttonEl.style.display =\n",
              "          google.colab.kernel.accessAllowed ? 'block' : 'none';\n",
              "\n",
              "        async function convertToInteractive(key) {\n",
              "          const element = document.querySelector('#df-5c461834-e68c-405d-a3f2-2a088dde91fd');\n",
              "          const dataTable =\n",
              "            await google.colab.kernel.invokeFunction('convertToInteractive',\n",
              "                                                     [key], {});\n",
              "          if (!dataTable) return;\n",
              "\n",
              "          const docLinkHtml = 'Like what you see? Visit the ' +\n",
              "            '<a target=\"_blank\" href=https://colab.research.google.com/notebooks/data_table.ipynb>data table notebook</a>'\n",
              "            + ' to learn more about interactive tables.';\n",
              "          element.innerHTML = '';\n",
              "          dataTable['output_type'] = 'display_data';\n",
              "          await google.colab.output.renderOutput(dataTable, element);\n",
              "          const docLink = document.createElement('div');\n",
              "          docLink.innerHTML = docLinkHtml;\n",
              "          element.appendChild(docLink);\n",
              "        }\n",
              "      </script>\n",
              "    </div>\n",
              "  </div>\n",
              "  "
            ]
          },
          "metadata": {},
          "execution_count": 33
        }
      ]
    }
  ]
}